{
 "cells": [
  {
   "cell_type": "code",
   "execution_count": 73,
   "metadata": {},
   "outputs": [],
   "source": [
    "from datagenerator import DataGen\n",
    "import numpy as np\n",
    "import tensorflow as tf\n",
    "import scipy as sc\n",
    "from sklearn.neighbors import KNeighborsClassifier\n",
    "import matplotlib.pyplot as plt\n",
    "from scipy.spatial import distance_matrix\n",
    "from sklearn.model_selection import train_test_split\n",
    "from sklearn.datasets import load_breast_cancer\n",
    "%matplotlib inline\n",
    "\n",
    "from IPython import display\n",
    "\n",
    "tf.enable_eager_execution()"
   ]
  },
  {
   "cell_type": "code",
   "execution_count": 75,
   "metadata": {
    "collapsed": true
   },
   "outputs": [],
   "source": [
    "def single_chi_sq_dist(x, y):\n",
    "    return 0.5 * np.sum((x-y)**2 / (x+y))\n",
    "\n",
    "def chi_sq_dist(X):\n",
    "    X_1 = tf.expand_dims(X, 1)\n",
    "    X_2 = tf.expand_dims(X, 0)\n",
    "\n",
    "    epsilon = tf.constant(0.000001)\n",
    "    \n",
    "    return 0.5 * tf.reduce_sum(tf.squared_difference(X_1, X_2) / (X_1+X_2 + epsilon), 2)\n",
    "\n",
    "def chi_sq_nn(X):\n",
    "    dist = chi_sq_dist(X)\n",
    "    return np.argsort(np.abs(dist),axis=1)\n",
    "\n",
    "def euclidean_nn(X):\n",
    "    dist = distance_matrix(X,X)\n",
    "    return np.argsort(dist,axis=1)"
   ]
  },
  {
   "cell_type": "code",
   "execution_count": 172,
   "metadata": {
    "scrolled": true
   },
   "outputs": [],
   "source": [
    "#X, y = DataGen.gauss(100, 3)\n",
    "#X, y = DataGen.moons(100,10)\n",
    "#X, y = DataGen.gauss(100, 2)\n",
    "X, y = load_breast_cancer(return_X_y=True)\n",
    "X, y = X[:100], y[:100]\n",
    "#X = np.hstack((X,np.zeros((X.shape[0],1))))\n",
    "X_train, X_test, y_train, y_test = train_test_split(X, y, test_size=0.33, random_state=42)\n",
    "#X, y = X_train, y_train\n",
    "\n",
    "N = X.shape[0]\n",
    "dims = X.shape[1]\n",
    "K = 5\n"
   ]
  },
  {
   "cell_type": "code",
   "execution_count": 173,
   "metadata": {},
   "outputs": [
    {
     "data": {
      "text/plain": [
       "0.8787878787878788"
      ]
     },
     "execution_count": 173,
     "metadata": {},
     "output_type": "execute_result"
    }
   ],
   "source": [
    "knc = KNeighborsClassifier(n_neighbors=K, algorithm='ball_tree', metric='pyfunc', \n",
    "                           metric_params={'func': single_chi_sq_dist})\n",
    "knc.fit(X_train, y_train)\n",
    "y_hat = knc.predict(X_test)\n",
    "acc = np.sum(y_hat == y_test) / len(y_test)\n",
    "acc"
   ]
  },
  {
   "cell_type": "code",
   "execution_count": 174,
   "metadata": {
    "collapsed": true
   },
   "outputs": [],
   "source": [
    "nearest_points = chi_sq_nn(X.astype('float32'))\n",
    "#nearest_points = euclidean_nn(X.astype('float32'))\n"
   ]
  },
  {
   "cell_type": "code",
   "execution_count": 175,
   "metadata": {
    "collapsed": true,
    "scrolled": false
   },
   "outputs": [],
   "source": [
    "## Same Class Neighbors - Automatic v2.0\n",
    "nn = np.zeros((N*K,2), dtype=np.int32)\n",
    "for i in range(N):\n",
    "    tmp = nearest_points[i]\n",
    "    idx = [elem for elem in tmp if elem in np.where(y==y[i])[0]]\n",
    "    nn[i::N,1] = idx[1:K+1]\n",
    "    nn[i::N,0] = np.repeat(idx[0], K)"
   ]
  },
  {
   "cell_type": "code",
   "execution_count": 176,
   "metadata": {
    "scrolled": true
   },
   "outputs": [
    {
     "name": "stdout",
     "output_type": "stream",
     "text": [
      "0\n"
     ]
    },
    {
     "data": {
      "image/png": "[encoded data removed]",
      "text/plain": [
       "<matplotlib.figure.Figure at 0x18f471174e0>"
      ]
     },
     "metadata": {},
     "output_type": "display_data"
    }
   ],
   "source": [
    "def plot_func(X,y):\n",
    "    classes = np.unique(y)\n",
    "    #plt.axis('equal')\n",
    "    tmp = X.copy()\n",
    "    tmp[:, 0] = X[:, 0] / X[:, 2]\n",
    "    tmp[:, 1] = X[:, 1] / X[:, 2]\n",
    "    \n",
    "    for i in classes:\n",
    "        plt.plot(tmp[y==i,0], tmp[y==i,1],'.')\n",
    "    #plt.show()\n",
    "\n",
    "t = 5\n",
    "print(y[t])\n",
    "plot_func(X,y)\n",
    "#plt.plot(X[int(nn[t,0]),0],X[int(nn[t,0]),1],'x')\n",
    "#plt.plot(X[nn[t,1:].astype(np.int),0],X[nn[t,1:].astype(np.int),1],'*')\n",
    "#plt.plot(X[im[t,:].astype(np.int),0],X[im[t,:].astype(np.int),1],'*')\n",
    "plt.show()\n"
   ]
  },
  {
   "cell_type": "code",
   "execution_count": 177,
   "metadata": {
    "collapsed": true
   },
   "outputs": [],
   "source": [
    "def get_impostors(D, nn, y, margin):\n",
    "    idxs = tf.reshape(tf.tile(tf.range(N),[N*K]), (N*N*K,1))\n",
    "    tn_idxs = tf.reshape(tf.tile(nn, [1, N]), (-1, 2))\n",
    "    all_idxs = tf.concat([tn_idxs, idxs], axis=1)\n",
    "\n",
    "    tn_index = all_idxs[:,:2]\n",
    "    im_index = all_idxs[:,::2]\n",
    "    tn_distance = tf.gather_nd(D, tn_index)\n",
    "    im_distance = tf.gather_nd(D, im_index)\n",
    "    \n",
    "    is_too_close = im_distance <= margin + tn_distance\n",
    "    is_different_class = tf.not_equal(tf.gather(y, tn_index[:,1]), tf.gather(y, im_index[:,1]))\n",
    "\n",
    "    predicate = tf.logical_and(is_too_close, is_different_class)\n",
    "    return tf.boolean_mask(all_idxs, predicate) # (idx, target neighbour index, imposter index)\n",
    "\n",
    "def loss(X, A, nn, y, margin):\n",
    "    L = tf.nn.softmax(A,axis=0)\n",
    "    #X_bar = tf.cast(X @ L, tf.float32)\n",
    "    X_bar = tf.transpose(tf.cast(L @ X.T, tf.float32))\n",
    "    D = chi_sq_dist(X_bar)\n",
    "    \n",
    "    im_triple = get_impostors(D, nn, y, margin)\n",
    "    \n",
    "    pull_term = tf.gather_nd(D, nn) # (N*K, 1) where each element \n",
    "    pull_loss = tf.reduce_sum(pull_term)\n",
    "\n",
    "    push_loss = tf.reduce_sum(margin + tf.gather_nd(D, im_triple[:,:2]) - tf.gather_nd(D, im_triple[:,::2]))  \n",
    "    loss = pull_loss + mu * push_loss\n",
    "    return loss\n",
    "\n",
    "def grad(X, A, nn, y, margin):\n",
    "    with tf.GradientTape() as tape:\n",
    "        loss_value = loss(X, A, nn, y, margin)\n",
    "    return tape.gradient(loss_value, A)"
   ]
  },
  {
   "cell_type": "code",
   "execution_count": 178,
   "metadata": {},
   "outputs": [],
   "source": [
    "tmp = np.tile(np.sum(X, axis=1), (dims, 1)).T\n",
    "X = X / tmp"
   ]
  },
  {
   "cell_type": "code",
   "execution_count": 185,
   "metadata": {
    "scrolled": true
   },
   "outputs": [
    {
     "data": {
      "image/png": "[encoded data removed]",
      "text/plain": [
       "<matplotlib.figure.Figure at 0x18f46984eb8>"
      ]
     },
     "metadata": {},
     "output_type": "display_data"
    },
    {
     "data": {
      "image/png": "[encoded data removed]",
      "text/plain": [
       "<matplotlib.figure.Figure at 0x18f450b0c50>"
      ]
     },
     "metadata": {},
     "output_type": "display_data"
    },
    {
     "data": {
      "image/png": "[encoded data removed]",
      "text/plain": [
       "<matplotlib.figure.Figure at 0x18f45904630>"
      ]
     },
     "metadata": {},
     "output_type": "display_data"
    },
    {
     "data": {
      "image/png": "[encoded data removed]",
      "text/plain": [
       "<matplotlib.figure.Figure at 0x18f44ee46a0>"
      ]
     },
     "metadata": {},
     "output_type": "display_data"
    },
    {
     "data": {
      "image/png": "[encoded data removed]",
      "text/plain": [
       "<matplotlib.figure.Figure at 0x18f46984eb8>"
      ]
     },
     "metadata": {},
     "output_type": "display_data"
    }
   ],
   "source": [
    "r = dims\n",
    "A = tf.Variable(np.eye(r, dims) + 0.01* np.ones((r,dims)))\n",
    "\n",
    "margin = 0.5\n",
    "mu = 10000\n",
    "\n",
    "optimizer = tf.train.GradientDescentOptimizer(learning_rate=0.01)\n",
    "#plot_func(X @ np.array(tf.nn.softmax(A,axis=0)), y)\n",
    "for i in range(200):\n",
    "    grads = grad(X, A, nn, y, margin)\n",
    "    optimizer.apply_gradients(zip([grads], [A]))\n",
    "    \n",
    "    if i % 50 == 0:\n",
    "        print(loss(X, A, nn, y, margin).numpy())\n",
    "        plt.figure()\n",
    "        L = np.array(tf.nn.softmax(A,axis=0))\n",
    "        x_bar = (L @ X.T).T\n",
    "        for i in range(3):\n",
    "            plt.plot(x_bar[y==i,0], x_bar[y==i,1] , 'o')\n",
    "        #plot_func(X @ np.array(tf.nn.softmax(A,axis=0)),y)\n",
    "        #plt.title(loss(X, A, nn, y, margin).numpy())\n",
    "        \n",
    "        display.clear_output(wait=True)\n",
    "        display.display(plt.gcf())\n",
    "        \n",
    "\n",
    "#optimizer.minimize(loss)"
   ]
  },
  {
   "cell_type": "code",
   "execution_count": 186,
   "metadata": {
    "scrolled": true
   },
   "outputs": [
    {
     "data": {
      "text/plain": [
       "0.8787878787878788"
      ]
     },
     "execution_count": 186,
     "metadata": {},
     "output_type": "execute_result"
    }
   ],
   "source": [
    "L = np.array(tf.nn.softmax(A,axis=0))\n",
    "knc = KNeighborsClassifier(n_neighbors=K, algorithm='ball_tree', metric='pyfunc', \n",
    "                           metric_params={'func': single_chi_sq_dist})\n",
    "knc.fit((L @ X_train.T).T, y_train)\n",
    "y_hat = knc.predict((L @ X_test.T).T)\n",
    "acc = np.sum(y_hat == y_test) / len(y_test)\n",
    "acc\n"
   ]
  },
  {
   "cell_type": "code",
   "execution_count": 187,
   "metadata": {},
   "outputs": [
    {
     "data": {
      "image/png": "[encoded data removed]",
      "text/plain": [
       "<matplotlib.figure.Figure at 0x18f46b58d30>"
      ]
     },
     "metadata": {},
     "output_type": "display_data"
    }
   ],
   "source": [
    "x_bar = (L @ X.T).T\n",
    "for i in range(3):\n",
    "    plt.plot(x_bar[y==i,0], x_bar[y==i,1] , 'o')"
   ]
  },
  {
   "cell_type": "code",
   "execution_count": 183,
   "metadata": {},
   "outputs": [
    {
     "data": {
      "text/plain": [
       "array([[9.22787070e-09, 1.56387164e-07, 1.19888900e-21, 0.00000000e+00,\n",
       "        8.39285976e-05, 4.05290107e-04, 9.99091362e-01, 9.99263150e-01,\n",
       "        1.55409083e-07, 1.78487951e-04, 1.39795815e-05, 3.21335818e-28,\n",
       "        2.93057723e-17, 9.99998730e-01, 1.30319788e-03, 6.73786111e-04,\n",
       "        3.68148338e-04, 1.56043430e-03, 4.79545157e-04, 2.74100819e-03,\n",
       "        2.15561309e-06, 5.60642367e-11, 6.59811134e-20, 1.00000000e+00,\n",
       "        1.36381085e-05, 9.97000547e-01, 9.97781324e-01, 9.99200876e-01,\n",
       "        4.21120288e-10, 1.68117273e-04],\n",
       "       [9.99999991e-01, 9.99999844e-01, 1.00000000e+00, 1.00000000e+00,\n",
       "        9.99916071e-01, 9.99594710e-01, 9.08637532e-04, 7.36849510e-04,\n",
       "        9.99999845e-01, 9.99821512e-01, 9.99986020e-01, 1.00000000e+00,\n",
       "        1.00000000e+00, 1.26969037e-06, 9.98696802e-01, 9.99326214e-01,\n",
       "        9.99631852e-01, 9.98439566e-01, 9.99520455e-01, 9.97258992e-01,\n",
       "        9.99997844e-01, 1.00000000e+00, 1.00000000e+00, 3.41729019e-65,\n",
       "        9.99986362e-01, 2.99945330e-03, 2.21867630e-03, 7.99124382e-04,\n",
       "        1.00000000e+00, 9.99831883e-01]])"
      ]
     },
     "execution_count": 183,
     "metadata": {},
     "output_type": "execute_result"
    }
   ],
   "source": [
    "L"
   ]
  },
  {
   "cell_type": "code",
   "execution_count": 184,
   "metadata": {},
   "outputs": [
    {
     "data": {
      "text/plain": [
       "<tf.Variable 'Variable:0' shape=(2, 30) dtype=float64, numpy=\n",
       "array([[  -8.74051875,   -7.32546546,  -24.07644583, -419.57182013,\n",
       "          -4.68273011,   -3.89525103,    3.51132762,    3.61619488,\n",
       "          -7.8286024 ,   -4.30540548,   -5.57894939,  -31.64253303,\n",
       "         -19.02437358,    6.79836811,   -3.31081504,   -3.64096191,\n",
       "          -3.9433282 ,   -3.22061472,   -3.81109642,   -2.93834235,\n",
       "          -6.51371661,  -11.7922615 ,  -22.07245921,   74.22959157,\n",
       "          -5.59131448,    2.91316064,    3.06431169,    3.57559725,\n",
       "         -10.7840513 ,   -4.33534032],\n",
       "       [   9.76051875,    8.34546546,   24.09644583,  419.59182013,\n",
       "           4.70273011,    3.91525103,   -3.49132762,   -3.59619488,\n",
       "           7.8486024 ,    4.32540548,    5.59894939,   31.66253303,\n",
       "          19.04437358,   -6.77836811,    3.33081504,    3.66096191,\n",
       "           3.9633282 ,    3.24061472,    3.83109642,    2.95834235,\n",
       "           6.53371661,   11.8122615 ,   22.09245921,  -74.20959157,\n",
       "           5.61131448,   -2.89316064,   -3.04431169,   -3.55559725,\n",
       "          10.8040513 ,    4.35534032]])>"
      ]
     },
     "execution_count": 184,
     "metadata": {},
     "output_type": "execute_result"
    }
   ],
   "source": [
    "A"
   ]
  },
  {
   "cell_type": "code",
   "execution_count": 40,
   "metadata": {},
   "outputs": [
    {
     "ename": "InvalidArgumentError",
     "evalue": "Matrix size-incompatible: In[0]: [2,2], In[1]: [100,2] [Op:MatMul] name: matmul/",
     "output_type": "error",
     "traceback": [
      "\u001b[0;31m---------------------------------------------------------------------------\u001b[0m",
      "\u001b[0;31mInvalidArgumentError\u001b[0m                      Traceback (most recent call last)",
      "\u001b[0;32m<ipython-input-40-4cfc72f55d74>\u001b[0m in \u001b[0;36m<module>\u001b[0;34m()\u001b[0m\n\u001b[1;32m      6\u001b[0m \u001b[0mL\u001b[0m \u001b[0;34m=\u001b[0m \u001b[0mtf\u001b[0m\u001b[0;34m.\u001b[0m\u001b[0mnn\u001b[0m\u001b[0;34m.\u001b[0m\u001b[0msoftmax\u001b[0m\u001b[0;34m(\u001b[0m\u001b[0mA\u001b[0m\u001b[0;34m,\u001b[0m\u001b[0maxis\u001b[0m\u001b[0;34m=\u001b[0m\u001b[0;36m0\u001b[0m\u001b[0;34m)\u001b[0m\u001b[0;34m\u001b[0m\u001b[0m\n\u001b[1;32m      7\u001b[0m \u001b[0;34m\u001b[0m\u001b[0m\n\u001b[0;32m----> 8\u001b[0;31m \u001b[0mxbar\u001b[0m \u001b[0;34m=\u001b[0m \u001b[0mL\u001b[0m \u001b[0;34m@\u001b[0m \u001b[0mX\u001b[0m\u001b[0;34m\u001b[0m\u001b[0m\n\u001b[0m\u001b[1;32m      9\u001b[0m \u001b[0;34m\u001b[0m\u001b[0m\n\u001b[1;32m     10\u001b[0m \u001b[0;34m\u001b[0m\u001b[0m\n",
      "\u001b[0;32m/anaconda3/lib/python3.6/site-packages/tensorflow/python/ops/math_ops.py\u001b[0m in \u001b[0;36mbinary_op_wrapper\u001b[0;34m(x, y)\u001b[0m\n\u001b[1;32m    969\u001b[0m           \u001b[0;32melse\u001b[0m\u001b[0;34m:\u001b[0m\u001b[0;34m\u001b[0m\u001b[0m\n\u001b[1;32m    970\u001b[0m             \u001b[0;32mraise\u001b[0m\u001b[0;34m\u001b[0m\u001b[0m\n\u001b[0;32m--> 971\u001b[0;31m       \u001b[0;32mreturn\u001b[0m \u001b[0mfunc\u001b[0m\u001b[0;34m(\u001b[0m\u001b[0mx\u001b[0m\u001b[0;34m,\u001b[0m \u001b[0my\u001b[0m\u001b[0;34m,\u001b[0m \u001b[0mname\u001b[0m\u001b[0;34m=\u001b[0m\u001b[0mname\u001b[0m\u001b[0;34m)\u001b[0m\u001b[0;34m\u001b[0m\u001b[0m\n\u001b[0m\u001b[1;32m    972\u001b[0m \u001b[0;34m\u001b[0m\u001b[0m\n\u001b[1;32m    973\u001b[0m   \u001b[0;32mdef\u001b[0m \u001b[0mbinary_op_wrapper_sparse\u001b[0m\u001b[0;34m(\u001b[0m\u001b[0msp_x\u001b[0m\u001b[0;34m,\u001b[0m \u001b[0my\u001b[0m\u001b[0;34m)\u001b[0m\u001b[0;34m:\u001b[0m\u001b[0;34m\u001b[0m\u001b[0m\n",
      "\u001b[0;32m/anaconda3/lib/python3.6/site-packages/tensorflow/python/ops/math_ops.py\u001b[0m in \u001b[0;36mmatmul\u001b[0;34m(a, b, transpose_a, transpose_b, adjoint_a, adjoint_b, a_is_sparse, b_is_sparse, name)\u001b[0m\n\u001b[1;32m   2106\u001b[0m     \u001b[0;32melse\u001b[0m\u001b[0;34m:\u001b[0m\u001b[0;34m\u001b[0m\u001b[0m\n\u001b[1;32m   2107\u001b[0m       return gen_math_ops.mat_mul(\n\u001b[0;32m-> 2108\u001b[0;31m           a, b, transpose_a=transpose_a, transpose_b=transpose_b, name=name)\n\u001b[0m\u001b[1;32m   2109\u001b[0m \u001b[0;34m\u001b[0m\u001b[0m\n\u001b[1;32m   2110\u001b[0m \u001b[0;34m\u001b[0m\u001b[0m\n",
      "\u001b[0;32m/anaconda3/lib/python3.6/site-packages/tensorflow/python/ops/gen_math_ops.py\u001b[0m in \u001b[0;36mmat_mul\u001b[0;34m(a, b, transpose_a, transpose_b, name)\u001b[0m\n\u001b[1;32m   4232\u001b[0m       \u001b[0;32melse\u001b[0m\u001b[0;34m:\u001b[0m\u001b[0;34m\u001b[0m\u001b[0m\n\u001b[1;32m   4233\u001b[0m         \u001b[0mmessage\u001b[0m \u001b[0;34m=\u001b[0m \u001b[0me\u001b[0m\u001b[0;34m.\u001b[0m\u001b[0mmessage\u001b[0m\u001b[0;34m\u001b[0m\u001b[0m\n\u001b[0;32m-> 4234\u001b[0;31m       \u001b[0m_six\u001b[0m\u001b[0;34m.\u001b[0m\u001b[0mraise_from\u001b[0m\u001b[0;34m(\u001b[0m\u001b[0m_core\u001b[0m\u001b[0;34m.\u001b[0m\u001b[0m_status_to_exception\u001b[0m\u001b[0;34m(\u001b[0m\u001b[0me\u001b[0m\u001b[0;34m.\u001b[0m\u001b[0mcode\u001b[0m\u001b[0;34m,\u001b[0m \u001b[0mmessage\u001b[0m\u001b[0;34m)\u001b[0m\u001b[0;34m,\u001b[0m \u001b[0;32mNone\u001b[0m\u001b[0;34m)\u001b[0m\u001b[0;34m\u001b[0m\u001b[0m\n\u001b[0m\u001b[1;32m   4235\u001b[0m \u001b[0;34m\u001b[0m\u001b[0m\n\u001b[1;32m   4236\u001b[0m \u001b[0;34m\u001b[0m\u001b[0m\n",
      "\u001b[0;32m/anaconda3/lib/python3.6/site-packages/six.py\u001b[0m in \u001b[0;36mraise_from\u001b[0;34m(value, from_value)\u001b[0m\n",
      "\u001b[0;31mInvalidArgumentError\u001b[0m: Matrix size-incompatible: In[0]: [2,2], In[1]: [100,2] [Op:MatMul] name: matmul/"
     ]
    }
   ],
   "source": [
    "i = 1\n",
    "j = 2\n",
    "q = 0\n",
    "p = 0\n",
    "A = np.eye(2) + 0.01*np.ones((2,2))\n",
    "L = tf.nn.softmax(A,axis=0)\n",
    "\n",
    "xbar = L @ X\n",
    "\n",
    "\n",
    "tijp = (xbar[i,p] - xbar[j,p]) / (xbar[i,p] - xbar[j,p])\n",
    "tempsum = 0\n",
    "for l in range(r):\n",
    "    tijl = (xbar[i,l] - xbar[j,l]) / (xbar[i,l] - xbar[j,l])\n",
    "    tempsum += L[l,q]*(tijl*(X[i,q] - X[j,q]) - tijl*tijl*(X[i,q] + X[j,q])/2 )\n",
    "    \n",
    "dCijqp = L[q,p]*( tijp*(X[i,q] - X[j,q]) - tijp*tijp*(X[i,q]+X[j,q])/2 ) - tempsum"
   ]
  },
  {
   "cell_type": "code",
   "execution_count": 49,
   "metadata": {},
   "outputs": [
    {
     "data": {
      "text/plain": [
       "<tf.Tensor: id=336, shape=(2, 100), dtype=float64, numpy=\n",
       "array([[1.18791127, 1.30834811, 0.44020902, 1.37982368, 1.68827717,\n",
       "        1.6618579 , 0.81070595, 0.74902455, 1.13256339, 1.58739523,\n",
       "        1.63455958, 1.38995312, 0.64496808, 0.44560822, 2.02629541,\n",
       "        0.99228199, 0.73284837, 0.84475219, 0.85107218, 1.65599924,\n",
       "        1.30804498, 1.6988241 , 0.87799051, 0.72613272, 1.23476277,\n",
       "        1.28851238, 1.82487118, 1.71362377, 1.5882432 , 1.43668385,\n",
       "        1.1114366 , 0.22716015, 0.52557251, 0.94879152, 1.47565721,\n",
       "        0.79035728, 1.63816184, 0.56193443, 0.51727074, 0.46547239,\n",
       "        1.24091883, 1.20556986, 1.5141785 , 0.54802127, 0.54648409,\n",
       "        0.98007474, 1.79461853, 1.69618968, 0.59960175, 0.59939353,\n",
       "        1.47782718, 1.7655701 , 1.70942627, 1.79550265, 0.53550774,\n",
       "        1.72778874, 0.90758804, 1.72412119, 1.31659464, 1.24515464,\n",
       "        0.44646163, 0.59527393, 1.35897142, 1.67830578, 1.55108744,\n",
       "        0.64275474, 1.07869813, 0.64478262, 0.96398459, 0.75660197,\n",
       "        1.03527196, 1.73501318, 0.31787413, 0.9400711 , 1.84308326,\n",
       "        0.50905284, 0.80715548, 0.51649723, 0.58442187, 1.00898348,\n",
       "        0.39549292, 1.49290696, 1.56824047, 1.5712039 , 1.83151838,\n",
       "        0.65227194, 0.52009834, 0.94506955, 1.70932361, 0.4149586 ,\n",
       "        0.47867792, 0.37275702, 1.91600109, 1.23268441, 0.41618515,\n",
       "        0.74902965, 1.30941135, 1.44267706, 0.46624986, 0.93228769],\n",
       "       [0.65797935, 0.8669217 , 0.3563382 , 1.0191793 , 1.19146686,\n",
       "        1.31668185, 1.53347875, 0.40475928, 1.57666033, 0.89461159,\n",
       "        1.22525737, 1.76914001, 0.60410153, 0.71388954, 1.81964636,\n",
       "        1.55797208, 1.17947879, 1.33867584, 0.53818512, 1.77367878,\n",
       "        1.52388111, 1.54548706, 0.38535519, 0.2671293 , 0.73794523,\n",
       "        0.5829565 , 1.79424446, 1.50099502, 1.76471971, 1.93050969,\n",
       "        1.50993951, 0.50989792, 0.90601328, 1.55320993, 1.9764757 ,\n",
       "        0.36976492, 1.7935012 , 0.48711473, 0.74627189, 1.08323334,\n",
       "        0.73267156, 0.70464222, 1.69082726, 0.30717142, 0.38354022,\n",
       "        0.62832029, 1.7861616 , 1.95652153, 1.11856977, 0.96330899,\n",
       "        0.97574139, 1.37724466, 1.63035894, 1.54812425, 0.65307258,\n",
       "        1.81039275, 0.59208289, 1.76169239, 0.75455874, 0.72024567,\n",
       "        0.32945668, 1.3810781 , 0.88851656, 1.19792705, 1.77173382,\n",
       "        0.62765666, 1.76104312, 1.07520209, 1.64955729, 1.29442773,\n",
       "        0.51374505, 1.65801911, 0.86407148, 1.53489452, 1.41784961,\n",
       "        0.85712478, 1.35959016, 0.46938849, 0.84557821, 0.62051309,\n",
       "        0.3527695 , 0.95180192, 1.27300065, 0.9755796 , 1.41976359,\n",
       "        1.33354818, 0.59865922, 1.62811286, 1.56488521, 0.70421584,\n",
       "        1.00025736, 0.67231939, 1.66027079, 0.69215467, 1.0163537 ,\n",
       "        0.49213495, 1.71422204, 1.72056632, 0.71188832, 1.49112204]])>"
      ]
     },
     "execution_count": 49,
     "metadata": {},
     "output_type": "execute_result"
    }
   ],
   "source": [
    "wtf = L @ np.asarray(X).T"
   ]
  },
  {
   "cell_type": "code",
   "execution_count": 38,
   "metadata": {},
   "outputs": [
    {
     "data": {
      "text/plain": [
       "<tf.Tensor: id=300, shape=(), dtype=float64, numpy=1.0901506926524922>"
      ]
     },
     "execution_count": 38,
     "metadata": {},
     "output_type": "execute_result"
    }
   ],
   "source": [
    "xbar[0,0]"
   ]
  },
  {
   "cell_type": "code",
   "execution_count": 35,
   "metadata": {},
   "outputs": [
    {
     "data": {
      "text/plain": [
       "100"
      ]
     },
     "execution_count": 35,
     "metadata": {},
     "output_type": "execute_result"
    }
   ],
   "source": [
    "r"
   ]
  },
  {
   "cell_type": "code",
   "execution_count": null,
   "metadata": {
    "collapsed": true
   },
   "outputs": [],
   "source": [
    "X = tf.contrib.eager.Variable(X, dtype=tf.float32)\n",
    "\n",
    "target_neighbours = tf.zeros((N, K)) #TODO!\n",
    "impostors = tf.zeros((N, K)) #TODO!\n",
    "\n",
    "A = 10 * tf.eye(dims) + 0.01 * tf.ones((dims,dims))\n",
    "# If we do softmax, then according to Yang, A=10*tf.eye(dims) - 5*tf.ones((dims,dims))\n",
    "L = tf.softmax(A, axis=0)\n",
    "\n",
    "chi_dist = chi_sq_dist(L @ X)\n"
   ]
  },
  {
   "cell_type": "code",
   "execution_count": null,
   "metadata": {
    "collapsed": true
   },
   "outputs": [],
   "source": []
  },
  {
   "cell_type": "code",
   "execution_count": null,
   "metadata": {
    "collapsed": true
   },
   "outputs": [],
   "source": []
  },
  {
   "cell_type": "code",
   "execution_count": null,
   "metadata": {
    "collapsed": true
   },
   "outputs": [],
   "source": []
  },
  {
   "cell_type": "code",
   "execution_count": null,
   "metadata": {
    "collapsed": true
   },
   "outputs": [],
   "source": [
    "from sklearn.metrics.pairwise import additive_chi2_kernel"
   ]
  },
  {
   "cell_type": "code",
   "execution_count": null,
   "metadata": {
    "collapsed": true
   },
   "outputs": [],
   "source": [
    "additive_chi2_kernel(X)"
   ]
  },
  {
   "cell_type": "code",
   "execution_count": null,
   "metadata": {
    "collapsed": true
   },
   "outputs": [],
   "source": [
    "\n",
    "with tf.GradientTape() as tape:\n",
    "    loss = -0.5 * additive_chi2_kernel(X)\n",
    "\n",
    "tape.gradient(loss, X)"
   ]
  },
  {
   "cell_type": "code",
   "execution_count": null,
   "metadata": {
    "collapsed": true
   },
   "outputs": [],
   "source": [
    "tf.matmul(X,y)"
   ]
  },
  {
   "cell_type": "code",
   "execution_count": null,
   "metadata": {
    "collapsed": true
   },
   "outputs": [],
   "source": []
  }
 ],
 "metadata": {
  "kernelspec": {
   "display_name": "Python [default]",
   "language": "python",
   "name": "python3"
  },
  "language_info": {
   "codemirror_mode": {
    "name": "ipython",
    "version": 3
   },
   "file_extension": ".py",
   "mimetype": "text/x-python",
   "name": "python",
   "nbconvert_exporter": "python",
   "pygments_lexer": "ipython3",
   "version": "3.6.1"
  }
 },
 "nbformat": 4,
 "nbformat_minor": 2
}
