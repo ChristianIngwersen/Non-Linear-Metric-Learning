{
 "cells": [
  {
   "cell_type": "code",
   "execution_count": 1,
   "metadata": {},
   "outputs": [],
   "source": [
    "from datagenerator import DataGen\n",
    "import numpy as np\n",
    "import tensorflow as tf\n",
    "import scipy as sc\n",
    "from sklearn.neighbors import KNeighborsClassifier, RadiusNeighborsClassifier\n",
    "import matplotlib.pyplot as plt\n",
    "from scipy.spatial import distance_matrix\n",
    "from sklearn.decomposition import PCA\n",
    "from sklearn.model_selection import train_test_split\n",
    "from sklearn.datasets import load_iris\n",
    "import pandas as pd\n",
    "%matplotlib inline\n",
    "\n",
    "from IPython import display\n",
    "\n",
    "tf.enable_eager_execution()"
   ]
  },
  {
   "cell_type": "code",
   "execution_count": 12,
   "metadata": {},
   "outputs": [
    {
     "data": {
      "text/plain": [
       "0.0015037593984962403"
      ]
     },
     "execution_count": 12,
     "metadata": {},
     "output_type": "execute_result"
    }
   ],
   "source": [
    "single_chi_sq_dist(np.array([0.3,0.3,0.4]),np.array([0.27,0.33,0.4]))"
   ]
  },
  {
   "cell_type": "code",
   "execution_count": 10,
   "metadata": {},
   "outputs": [],
   "source": [
    "def single_chi_sq_dist(x, y):\n",
    "    return 0.5 * np.sum((x-y)**2 / (x+y))\n",
    "\n",
    "def chi_sq_dist(X):\n",
    "    X_1 = tf.expand_dims(X, 1)\n",
    "    X_2 = tf.expand_dims(X, 0)\n",
    "\n",
    "    epsilon = tf.constant(0.000001)\n",
    "    \n",
    "    return 0.5 * tf.reduce_sum(tf.squared_difference(X_1, X_2) / (X_1+X_2 + epsilon), 2)\n",
    "\n",
    "def chi_sq_nn(X):\n",
    "    with tf.device(\"/cpu:0\"):\n",
    "        dist = chi_sq_dist(X)\n",
    "        return np.argsort(np.abs(dist),axis=1)\n",
    "\n",
    "def euclidean_nn(X):\n",
    "    dist = distance_matrix(X,X)\n",
    "    return np.argsort(dist,axis=1)"
   ]
  },
  {
   "cell_type": "code",
   "execution_count": 3,
   "metadata": {},
   "outputs": [],
   "source": [
    "a = np.load(\"amazon_data.npz\")\n",
    "X =a[\"X\"]\n",
    "y = a[\"y\"]\n",
    "\n",
    "dims = X.shape[1]\n",
    "K = 3\n",
    "\n",
    "X = X / np.tile(np.sum(X, axis=1), (dims, 1)).T\n",
    "num_classes = len(np.unique(y))"
   ]
  },
  {
   "cell_type": "code",
   "execution_count": 4,
   "metadata": {},
   "outputs": [],
   "source": [
    "#N=100\n",
    "X_train, X_test, y_train, y_test = train_test_split(X, y, test_size=0.20, random_state=42)\n",
    "X_train = X_train#[:N]\n",
    "y_train = y_train#[:N]\n",
    "X_test = X_test#[:N]\n",
    "y_test = y_test#[:N]\n",
    "N = len(X_train)"
   ]
  },
  {
   "cell_type": "code",
   "execution_count": 14,
   "metadata": {},
   "outputs": [
    {
     "ename": "ValueError",
     "evalue": "operands could not be broadcast together with shapes (200,1281) (200,800) ",
     "output_type": "error",
     "traceback": [
      "\u001b[0;31m---------------------------------------------------------------------------\u001b[0m",
      "\u001b[0;31mValueError\u001b[0m                                Traceback (most recent call last)",
      "\u001b[0;32m<ipython-input-14-f56a772a3a92>\u001b[0m in \u001b[0;36m<module>\u001b[0;34m\u001b[0m\n\u001b[1;32m      6\u001b[0m \u001b[0;34m\u001b[0m\u001b[0m\n\u001b[1;32m      7\u001b[0m \u001b[0mtmp\u001b[0m \u001b[0;34m=\u001b[0m \u001b[0mnp\u001b[0m\u001b[0;34m.\u001b[0m\u001b[0mtile\u001b[0m\u001b[0;34m(\u001b[0m\u001b[0mnp\u001b[0m\u001b[0;34m.\u001b[0m\u001b[0msum\u001b[0m\u001b[0;34m(\u001b[0m\u001b[0mX\u001b[0m\u001b[0;34m,\u001b[0m \u001b[0maxis\u001b[0m\u001b[0;34m=\u001b[0m\u001b[0;36m1\u001b[0m\u001b[0;34m)\u001b[0m\u001b[0;34m,\u001b[0m \u001b[0;34m(\u001b[0m\u001b[0mdims\u001b[0m\u001b[0;34m,\u001b[0m \u001b[0;36m1\u001b[0m\u001b[0;34m)\u001b[0m\u001b[0;34m)\u001b[0m\u001b[0;34m.\u001b[0m\u001b[0mT\u001b[0m\u001b[0;34m\u001b[0m\u001b[0;34m\u001b[0m\u001b[0m\n\u001b[0;32m----> 8\u001b[0;31m \u001b[0mX\u001b[0m \u001b[0;34m=\u001b[0m \u001b[0mX\u001b[0m \u001b[0;34m/\u001b[0m \u001b[0mtmp\u001b[0m\u001b[0;34m\u001b[0m\u001b[0;34m\u001b[0m\u001b[0m\n\u001b[0m",
      "\u001b[0;31mValueError\u001b[0m: operands could not be broadcast together with shapes (200,1281) (200,800) "
     ]
    }
   ],
   "source": [
    "\"\"\" NN keras\n",
    "catsdf = pd.read_csv(\"data/cats.csv\")\n",
    "dogsdf = pd.read_csv(\"data/dogs.csv\")\n",
    "X = np.concatenate([catsdf.values, dogsdf.values])\n",
    "y = np.array(len(catsdf)*[1]+ len(catsdf)*[0])\n",
    "\n",
    "tmp = np.tile(np.sum(X, axis=1), (dims, 1)).T\n",
    "X = X / tmp\n",
    "\"\"\""
   ]
  },
  {
   "cell_type": "code",
   "execution_count": 35,
   "metadata": {},
   "outputs": [],
   "source": [
    "data =np.load(\"./my_histograms_400.npz\")\n",
    "X_train = data['X_train']\n",
    "y_train = data['y_train']=='cat'\n",
    "X_test = data['X_test']\n",
    "y_test = data['y_test']=='cat'\n",
    "N = len(X_train)\n",
    "dims = 400"
   ]
  },
  {
   "cell_type": "code",
   "execution_count": 13,
   "metadata": {
    "scrolled": true
   },
   "outputs": [
    {
     "ename": "InvalidArgumentError",
     "evalue": "cannot compute Add as input #0(zero-based) was expected to be a float tensor but is a double tensor [Op:Add] name: add/",
     "output_type": "error",
     "traceback": [
      "\u001b[0;31m---------------------------------------------------------------------------\u001b[0m",
      "\u001b[0;31mInvalidArgumentError\u001b[0m                      Traceback (most recent call last)",
      "\u001b[0;32m<ipython-input-13-d21a2a42ecde>\u001b[0m in \u001b[0;36m<module>\u001b[0;34m\u001b[0m\n\u001b[1;32m     10\u001b[0m \u001b[0;34m\u001b[0m\u001b[0m\n\u001b[1;32m     11\u001b[0m \u001b[0;34m\u001b[0m\u001b[0m\n\u001b[0;32m---> 12\u001b[0;31m \u001b[0mD\u001b[0m \u001b[0;34m=\u001b[0m \u001b[0mchi_sq_dist\u001b[0m\u001b[0;34m(\u001b[0m\u001b[0mX\u001b[0m\u001b[0;34m)\u001b[0m\u001b[0;34m\u001b[0m\u001b[0;34m\u001b[0m\u001b[0m\n\u001b[0m\u001b[1;32m     13\u001b[0m \u001b[0mplt\u001b[0m\u001b[0;34m.\u001b[0m\u001b[0mimshow\u001b[0m\u001b[0;34m(\u001b[0m\u001b[0mD\u001b[0m\u001b[0;34m)\u001b[0m\u001b[0;34m\u001b[0m\u001b[0;34m\u001b[0m\u001b[0m\n",
      "\u001b[0;32m<ipython-input-10-f854ead54aca>\u001b[0m in \u001b[0;36mchi_sq_dist\u001b[0;34m(X)\u001b[0m\n\u001b[1;32m      8\u001b[0m     \u001b[0mepsilon\u001b[0m \u001b[0;34m=\u001b[0m \u001b[0mtf\u001b[0m\u001b[0;34m.\u001b[0m\u001b[0mconstant\u001b[0m\u001b[0;34m(\u001b[0m\u001b[0;36m0.000001\u001b[0m\u001b[0;34m)\u001b[0m\u001b[0;34m\u001b[0m\u001b[0;34m\u001b[0m\u001b[0m\n\u001b[1;32m      9\u001b[0m \u001b[0;34m\u001b[0m\u001b[0m\n\u001b[0;32m---> 10\u001b[0;31m     \u001b[0;32mreturn\u001b[0m \u001b[0;36m0.5\u001b[0m \u001b[0;34m*\u001b[0m \u001b[0mtf\u001b[0m\u001b[0;34m.\u001b[0m\u001b[0mreduce_sum\u001b[0m\u001b[0;34m(\u001b[0m\u001b[0mtf\u001b[0m\u001b[0;34m.\u001b[0m\u001b[0msquared_difference\u001b[0m\u001b[0;34m(\u001b[0m\u001b[0mX_1\u001b[0m\u001b[0;34m,\u001b[0m \u001b[0mX_2\u001b[0m\u001b[0;34m)\u001b[0m \u001b[0;34m/\u001b[0m \u001b[0;34m(\u001b[0m\u001b[0mX_1\u001b[0m\u001b[0;34m+\u001b[0m\u001b[0mX_2\u001b[0m \u001b[0;34m+\u001b[0m \u001b[0mepsilon\u001b[0m\u001b[0;34m)\u001b[0m\u001b[0;34m,\u001b[0m \u001b[0;36m2\u001b[0m\u001b[0;34m)\u001b[0m\u001b[0;34m\u001b[0m\u001b[0;34m\u001b[0m\u001b[0m\n\u001b[0m\u001b[1;32m     11\u001b[0m \u001b[0;34m\u001b[0m\u001b[0m\n\u001b[1;32m     12\u001b[0m \u001b[0;32mdef\u001b[0m \u001b[0mchi_sq_nn\u001b[0m\u001b[0;34m(\u001b[0m\u001b[0mX\u001b[0m\u001b[0;34m)\u001b[0m\u001b[0;34m:\u001b[0m\u001b[0;34m\u001b[0m\u001b[0;34m\u001b[0m\u001b[0m\n",
      "\u001b[0;32m/miniconda3/lib/python3.7/site-packages/tensorflow/python/ops/math_ops.py\u001b[0m in \u001b[0;36mbinary_op_wrapper\u001b[0;34m(x, y)\u001b[0m\n\u001b[1;32m    810\u001b[0m     \u001b[0;32mwith\u001b[0m \u001b[0mops\u001b[0m\u001b[0;34m.\u001b[0m\u001b[0mname_scope\u001b[0m\u001b[0;34m(\u001b[0m\u001b[0;32mNone\u001b[0m\u001b[0;34m,\u001b[0m \u001b[0mop_name\u001b[0m\u001b[0;34m,\u001b[0m \u001b[0;34m[\u001b[0m\u001b[0mx\u001b[0m\u001b[0;34m,\u001b[0m \u001b[0my\u001b[0m\u001b[0;34m]\u001b[0m\u001b[0;34m)\u001b[0m \u001b[0;32mas\u001b[0m \u001b[0mname\u001b[0m\u001b[0;34m:\u001b[0m\u001b[0;34m\u001b[0m\u001b[0;34m\u001b[0m\u001b[0m\n\u001b[1;32m    811\u001b[0m       \u001b[0;32mif\u001b[0m \u001b[0misinstance\u001b[0m\u001b[0;34m(\u001b[0m\u001b[0mx\u001b[0m\u001b[0;34m,\u001b[0m \u001b[0mops\u001b[0m\u001b[0;34m.\u001b[0m\u001b[0mTensor\u001b[0m\u001b[0;34m)\u001b[0m \u001b[0;32mand\u001b[0m \u001b[0misinstance\u001b[0m\u001b[0;34m(\u001b[0m\u001b[0my\u001b[0m\u001b[0;34m,\u001b[0m \u001b[0mops\u001b[0m\u001b[0;34m.\u001b[0m\u001b[0mTensor\u001b[0m\u001b[0;34m)\u001b[0m\u001b[0;34m:\u001b[0m\u001b[0;34m\u001b[0m\u001b[0;34m\u001b[0m\u001b[0m\n\u001b[0;32m--> 812\u001b[0;31m         \u001b[0;32mreturn\u001b[0m \u001b[0mfunc\u001b[0m\u001b[0;34m(\u001b[0m\u001b[0mx\u001b[0m\u001b[0;34m,\u001b[0m \u001b[0my\u001b[0m\u001b[0;34m,\u001b[0m \u001b[0mname\u001b[0m\u001b[0;34m=\u001b[0m\u001b[0mname\u001b[0m\u001b[0;34m)\u001b[0m\u001b[0;34m\u001b[0m\u001b[0;34m\u001b[0m\u001b[0m\n\u001b[0m\u001b[1;32m    813\u001b[0m       \u001b[0;32melif\u001b[0m \u001b[0;32mnot\u001b[0m \u001b[0misinstance\u001b[0m\u001b[0;34m(\u001b[0m\u001b[0my\u001b[0m\u001b[0;34m,\u001b[0m \u001b[0msparse_tensor\u001b[0m\u001b[0;34m.\u001b[0m\u001b[0mSparseTensor\u001b[0m\u001b[0;34m)\u001b[0m\u001b[0;34m:\u001b[0m\u001b[0;34m\u001b[0m\u001b[0;34m\u001b[0m\u001b[0m\n\u001b[1;32m    814\u001b[0m         \u001b[0;32mtry\u001b[0m\u001b[0;34m:\u001b[0m\u001b[0;34m\u001b[0m\u001b[0;34m\u001b[0m\u001b[0m\n",
      "\u001b[0;32m/miniconda3/lib/python3.7/site-packages/tensorflow/python/ops/gen_math_ops.py\u001b[0m in \u001b[0;36madd\u001b[0;34m(x, y, name)\u001b[0m\n\u001b[1;32m    359\u001b[0m       \u001b[0;32melse\u001b[0m\u001b[0;34m:\u001b[0m\u001b[0;34m\u001b[0m\u001b[0;34m\u001b[0m\u001b[0m\n\u001b[1;32m    360\u001b[0m         \u001b[0mmessage\u001b[0m \u001b[0;34m=\u001b[0m \u001b[0me\u001b[0m\u001b[0;34m.\u001b[0m\u001b[0mmessage\u001b[0m\u001b[0;34m\u001b[0m\u001b[0;34m\u001b[0m\u001b[0m\n\u001b[0;32m--> 361\u001b[0;31m       \u001b[0m_six\u001b[0m\u001b[0;34m.\u001b[0m\u001b[0mraise_from\u001b[0m\u001b[0;34m(\u001b[0m\u001b[0m_core\u001b[0m\u001b[0;34m.\u001b[0m\u001b[0m_status_to_exception\u001b[0m\u001b[0;34m(\u001b[0m\u001b[0me\u001b[0m\u001b[0;34m.\u001b[0m\u001b[0mcode\u001b[0m\u001b[0;34m,\u001b[0m \u001b[0mmessage\u001b[0m\u001b[0;34m)\u001b[0m\u001b[0;34m,\u001b[0m \u001b[0;32mNone\u001b[0m\u001b[0;34m)\u001b[0m\u001b[0;34m\u001b[0m\u001b[0;34m\u001b[0m\u001b[0m\n\u001b[0m\u001b[1;32m    362\u001b[0m   \u001b[0;31m# Add nodes to the TensorFlow graph.\u001b[0m\u001b[0;34m\u001b[0m\u001b[0;34m\u001b[0m\u001b[0;34m\u001b[0m\u001b[0m\n\u001b[1;32m    363\u001b[0m   \u001b[0;32mtry\u001b[0m\u001b[0;34m:\u001b[0m\u001b[0;34m\u001b[0m\u001b[0;34m\u001b[0m\u001b[0m\n",
      "\u001b[0;32m/miniconda3/lib/python3.7/site-packages/six.py\u001b[0m in \u001b[0;36mraise_from\u001b[0;34m(value, from_value)\u001b[0m\n",
      "\u001b[0;31mInvalidArgumentError\u001b[0m: cannot compute Add as input #0(zero-based) was expected to be a float tensor but is a double tensor [Op:Add] name: add/"
     ]
    }
   ],
   "source": [
    "#X, y = DataGen.gauss(100, 3)\n",
    "#X, y = DataGen.moons(100,0.5)\n",
    "\n",
    "#X, y = DataGen.gauss(100, 2)\n",
    "#X, y = load_iris(return_X_y=True)\n",
    "#X, y = X[:100], y[:100]\n",
    "#X = np.hstack((X,np.zeros((X.shape[0],1))))\n",
    "#X_train, X_test, y_train, y_test = train_test_split(X, y, test_size=0.20, random_state=42)\n",
    "#X, y = X_train, y_train\n",
    "\n",
    "\n",
    "#D = chi_sq_dist(X)\n",
    "#plt.imshow(D)"
   ]
  },
  {
   "cell_type": "code",
   "execution_count": 28,
   "metadata": {},
   "outputs": [
    {
     "name": "stderr",
     "output_type": "stream",
     "text": [
      "/miniconda3/lib/python3.7/site-packages/ipykernel_launcher.py:2: RuntimeWarning: invalid value encountered in true_divide\n",
      "  \n",
      "/miniconda3/lib/python3.7/site-packages/ipykernel_launcher.py:2: RuntimeWarning: invalid value encountered in true_divide\n",
      "  \n"
     ]
    },
    {
     "data": {
      "text/plain": [
       "0.6"
      ]
     },
     "execution_count": 28,
     "metadata": {},
     "output_type": "execute_result"
    }
   ],
   "source": [
    "knc = KNeighborsClassifier(n_neighbors=K, algorithm='ball_tree', metric='pyfunc', \n",
    "                           metric_params={'func': single_chi_sq_dist})\n",
    "#knc = KNeighborsClassifier(n_neighbors=K, algorithm='ball_tree')\n",
    "#knc = KNeighborsClassifier(n_neighbors=K)\n",
    "#knc = RadiusNeighborsClassifier(radius=margin, algorithm='ball_tree', metric='pyfunc', \n",
    "#                            metric_params={'func': single_chi_sq_dist})\n",
    "knc.fit(X_train, y_train)\n",
    "y_hat = knc.predict(X_test)\n",
    "acc = np.sum(y_hat == y_test) / len(y_test)\n",
    "acc"
   ]
  },
  {
   "cell_type": "code",
   "execution_count": 29,
   "metadata": {},
   "outputs": [],
   "source": [
    "nearest_points = chi_sq_nn(X_train.astype('float32'))\n",
    "#nearest_points = euclidean_nn(X.astype('float32'))\n"
   ]
  },
  {
   "cell_type": "code",
   "execution_count": 30,
   "metadata": {
    "scrolled": false
   },
   "outputs": [],
   "source": [
    "## Same Class Neighbors - Automatic v2.0\n",
    "nn = np.zeros((N*K,2), dtype=np.int32)\n",
    "for i in range(N):\n",
    "    tmp = nearest_points[i]\n",
    "    idx = [elem for elem in tmp if elem in np.where(y_train==y_train[i])[0]]\n",
    "    nn[i::N,1] = idx[1:K+1]\n",
    "    nn[i::N,0] = np.repeat(idx[0], K)"
   ]
  },
  {
   "cell_type": "code",
   "execution_count": 36,
   "metadata": {
    "scrolled": true
   },
   "outputs": [
    {
     "data": {
      "image/png": "[encoded data removed]",
      "text/plain": [
       "<Figure size 432x288 with 1 Axes>"
      ]
     },
     "metadata": {
      "needs_background": "light"
     },
     "output_type": "display_data"
    }
   ],
   "source": [
    "def plot_func(X,y):\n",
    "    classes = np.unique(y)\n",
    "    #plt.axis('equal')\n",
    "    tmp = X.copy()\n",
    "    tmp[:, 0] = X[:, 0] / X[:, 2]\n",
    "    tmp[:, 1] = X[:, 1] / X[:, 2]\n",
    "    \n",
    "    for i in classes:\n",
    "        plt.plot(tmp[y==i,0], tmp[y==i,1],'.')\n",
    "    #plt.show()\n",
    "\n",
    "t = 5\n",
    "pca = PCA(2)\n",
    "pca.fit(X_train)\n",
    "trans_X_train = pca.transform(X_train)\n",
    "\n",
    "for i in range(num_classes):\n",
    "    plt.plot(trans_X_train[y_train==i,0], trans_X_train[y_train==i,1] , 'o')\n",
    "#plt.plot(X[int(nn[t,0]),0],X[int(nn[t,0]),1],'x')\n",
    "#plt.plot(X[nn[t,1:].astype(np.int),0],X[nn[t,1:].astype(np.int),1],'*')\n",
    "#plt.plot(X[im[t,:].astype(np.int),0],X[im[t,:].astype(np.int),1],'*')\n",
    "plt.show()\n"
   ]
  },
  {
   "cell_type": "code",
   "execution_count": 37,
   "metadata": {},
   "outputs": [],
   "source": [
    "def get_impostors(D, nn, y, margin):\n",
    "    N = np.shape(D)[0]\n",
    "    idxs = tf.reshape(tf.tile(tf.range(N),[N*K]), (N*N*K,1))\n",
    "    tn_idxs = tf.reshape(tf.tile(nn, [1, N]), (-1, 2))\n",
    "    all_idxs = tf.concat([tn_idxs, idxs], axis=1)\n",
    "\n",
    "    tn_index = all_idxs[:,:2]\n",
    "    im_index = all_idxs[:,::2]\n",
    "    tn_distance = tf.gather_nd(D, tn_index)\n",
    "    im_distance = tf.gather_nd(D, im_index)\n",
    "    \n",
    "    is_too_close = im_distance <= margin + tn_distance\n",
    "    is_different_class = tf.not_equal(tf.gather(y, tn_index[:,1]), tf.gather(y, im_index[:,1]))\n",
    "\n",
    "    predicate = tf.logical_and(is_too_close, is_different_class)\n",
    "    #print(tf.reduce_sum(tf.cast(predicate, tf.int32)))\n",
    "    return tf.boolean_mask(all_idxs, predicate) # (idx, target neighbour index, imposter index)\n",
    "\n",
    "def loss(X, A, nn, y, margin):\n",
    "    L = tf.nn.softmax(A,axis=0)\n",
    "    #X_bar = tf.cast(X @ L, tf.float32)\n",
    "    X_bar = tf.cast(X @ tf.transpose(L), tf.float32)\n",
    "    \n",
    "    D = chi_sq_dist(X_bar)\n",
    "    \n",
    "    im_triple = get_impostors(D, nn, y, margin)\n",
    "    #print(im_triple)\n",
    "    \n",
    "    pull_term = tf.gather_nd(D, nn) # (N*K, 1) where each element \n",
    "    pull_loss = tf.reduce_sum(pull_term)\n",
    "\n",
    "    push_loss = tf.reduce_sum(margin + tf.gather_nd(D, im_triple[:,:2]) - tf.gather_nd(D, im_triple[:,::2]))\n",
    "    #print(push_loss)\n",
    "    loss = pull_loss + mu * push_loss\n",
    "    return loss\n",
    "\n",
    "def grad(X, A, nn, y, margin):\n",
    "    with tf.GradientTape() as tape:\n",
    "        loss_value = loss(X, A, nn, y, margin)\n",
    "    return tape.gradient(loss_value, A)"
   ]
  },
  {
   "cell_type": "code",
   "execution_count": null,
   "metadata": {
    "scrolled": true
   },
   "outputs": [
    {
     "data": {
      "image/png": "[encoded data removed]",
      "text/plain": [
       "<Figure size 432x288 with 1 Axes>"
      ]
     },
     "metadata": {},
     "output_type": "display_data"
    }
   ],
   "source": [
    "r = dims\n",
    "A = tf.Variable(np.eye(r, dims) + 0.01* np.ones((r,dims)))\n",
    "#A = tf.Variable(tf.random.uniform((r,dims)))\n",
    "\n",
    "#margin = 0.5\n",
    "#margin = 0.001\n",
    "margin = .1\n",
    "mu = 0.5\n",
    "\n",
    "#optimizer = tf.train.AdamOptimizer(learning_rate=0.1)\n",
    "optimizer = tf.train.AdagradOptimizer(learning_rate=0.1)\n",
    "#plot_func(X @ np.array(tf.nn.softmax(A,axis=0)), y)\n",
    "with tf.device(\"/cpu:0\"):\n",
    "    for i in range(10000):\n",
    "        grads = grad(X_train, A, nn, y_train, margin)\n",
    "        optimizer.apply_gradients(zip([grads], [A]))\n",
    "\n",
    "        if i % 500 == 0:\n",
    "            plt.figure()\n",
    "            plt.title(f\"{i} Train loss: {loss(X_train, A, nn, y_train, margin).numpy()}\")\n",
    "            L = np.array(tf.nn.softmax(A,axis=0))\n",
    "            x_bar = X_train @ L.T\n",
    "            trans_X_train = pca.transform(x_bar)\n",
    "\n",
    "            for i in range(num_classes):\n",
    "                plt.plot(trans_X_train[y_train==i,0], trans_X_train[y_train==i,1] , 'o')\n",
    "            #plot_func(X @ np.array(tf.nn.softmax(A,axis=0)),y)\n",
    "            #plt.title(loss(X, A, nn, y, margin).numpy())\n",
    "\n",
    "            display.clear_output(wait=True)\n",
    "            display.display(plt.gcf())\n",
    "        \n",
    "\n",
    "#optimizer.minimize(loss)"
   ]
  },
  {
   "cell_type": "code",
   "execution_count": 13,
   "metadata": {},
   "outputs": [
    {
     "data": {
      "text/plain": [
       "0.72916666666666663"
      ]
     },
     "execution_count": 13,
     "metadata": {},
     "output_type": "execute_result"
    }
   ],
   "source": [
    "L = np.array(tf.nn.softmax(A,axis=0))\n",
    "knc = KNeighborsClassifier(n_neighbors=K, algorithm='ball_tree', metric='pyfunc', \n",
    "                           metric_params={'func': single_chi_sq_dist})\n",
    "#knc = RadiusNeighborsClassifier(radius=margin, algorithm='ball_tree', metric='pyfunc', \n",
    "#                            metric_params={'func': single_chi_sq_dist})\n",
    "knc.fit(X_train @ L.T, y_train)\n",
    "y_hat = knc.predict(X_test @ L.T)\n",
    "acc = np.sum(y_hat == y_test) / len(y_test)\n",
    "acc"
   ]
  },
  {
   "cell_type": "code",
   "execution_count": null,
   "metadata": {
    "collapsed": true
   },
   "outputs": [],
   "source": [
    "t = X_train[:]/np.linalg.norm(X_train, axis=0)"
   ]
  },
  {
   "cell_type": "code",
   "execution_count": 14,
   "metadata": {},
   "outputs": [],
   "source": [
    "np.save(\"A.npy\", A)"
   ]
  },
  {
   "cell_type": "code",
   "execution_count": 15,
   "metadata": {
    "collapsed": true
   },
   "outputs": [],
   "source": [
    "A2 = np.load(\"A.npy\")"
   ]
  },
  {
   "cell_type": "code",
   "execution_count": 17,
   "metadata": {},
   "outputs": [
    {
     "data": {
      "text/plain": [
       "<tf.Variable 'Variable:0' shape=(800, 800) dtype=float64, numpy=\n",
       "array([[ 7.98979736, -0.21010345, -1.32465445, ..., -0.44509852,\n",
       "        -1.48639429,  6.74209132],\n",
       "       [-0.50322698,  8.62433236, -2.01155783, ...,  1.5922618 ,\n",
       "        -1.75252645,  0.37058134],\n",
       "       [-0.99987465, -1.56868273,  5.95974234, ..., -1.84527481,\n",
       "         2.83175927, -0.78584369],\n",
       "       ..., \n",
       "       [-1.58588671,  0.28598222, -1.87395204, ...,  7.61124701,\n",
       "        -1.02477621, -1.03469683],\n",
       "       [-1.31015668, -1.42490401,  1.39459866, ..., -1.61793875,\n",
       "         4.27353209, -0.82286528],\n",
       "       [ 0.06113732,  1.1305378 , -1.94691179, ...,  0.11980106,\n",
       "        -1.71034241,  9.99979674]])>"
      ]
     },
     "execution_count": 17,
     "metadata": {},
     "output_type": "execute_result"
    }
   ],
   "source": [
    "A"
   ]
  },
  {
   "cell_type": "code",
   "execution_count": null,
   "metadata": {
    "collapsed": true
   },
   "outputs": [],
   "source": []
  }
 ],
 "metadata": {
  "kernelspec": {
   "display_name": "Python 3",
   "language": "python",
   "name": "python3"
  },
  "language_info": {
   "codemirror_mode": {
    "name": "ipython",
    "version": 3
   },
   "file_extension": ".py",
   "mimetype": "text/x-python",
   "name": "python",
   "nbconvert_exporter": "python",
   "pygments_lexer": "ipython3",
   "version": "3.7.1"
  }
 },
 "nbformat": 4,
 "nbformat_minor": 2
}
